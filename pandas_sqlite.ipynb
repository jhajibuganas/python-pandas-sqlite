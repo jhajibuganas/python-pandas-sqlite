{
 "cells": [
  {
   "cell_type": "code",
   "execution_count": 1,
   "metadata": {},
   "outputs": [],
   "source": [
    "#Import libraries\n",
    "import pandas as pd\n",
    "import sqlite3 as db"
   ]
  },
  {
   "cell_type": "code",
   "execution_count": 2,
   "metadata": {},
   "outputs": [],
   "source": [
    "#Create connection to sqlite database\n",
    "conn = db.connect('db/sqlite.db')\n",
    "\n",
    "cursor = conn.cursor()"
   ]
  },
  {
   "cell_type": "code",
   "execution_count": null,
   "metadata": {},
   "outputs": [],
   "source": [
    "#Create database table employees\n",
    "cursor.execute(\"CREATE TABLE employees(employee_id INTEGER PRIMARY KEY, first_name NVARCHAR(50), last_name NVARCHAR(50), email NVARCHAR(100))\")"
   ]
  },
  {
   "cell_type": "code",
   "execution_count": 13,
   "metadata": {},
   "outputs": [
    {
     "name": "stdout",
     "output_type": "stream",
     "text": [
      "[('employees',)]\n"
     ]
    }
   ],
   "source": [
    "#Validate if the table is successfully created\n",
    "cursor.execute(\"SELECT name FROM sqlite_master WHERE type = 'table';\")\n",
    "print(cursor.fetchall())"
   ]
  },
  {
   "cell_type": "code",
   "execution_count": null,
   "metadata": {},
   "outputs": [
    {
     "data": {
      "text/plain": [
       "<sqlite3.Cursor at 0x11a651c40>"
      ]
     },
     "execution_count": 11,
     "metadata": {},
     "output_type": "execute_result"
    }
   ],
   "source": [
    "#Insert new data to employee table\n",
    "cursor.execute(\"INSERT INTO employees VALUES (1, 'John', 'Doe', 'johndoe@johndoe.com')\")\n",
    "cursor.execute(\"INSERT INTO employees VALUES (2, 'Jason', 'Hale', 'jasonhale@jasonhale.com')\")\n",
    "cursor.execute(\"INSERT INTO employees VALUES (3, 'Jane', 'Doe', 'janedoe@janedoe.com')\")"
   ]
  },
  {
   "cell_type": "code",
   "execution_count": 15,
   "metadata": {},
   "outputs": [
    {
     "name": "stdout",
     "output_type": "stream",
     "text": [
      "[(1, 'John', 'Doe', 'johndoe@johndoe.com'), (2, 'Jason', 'Hale', 'jasonhale@jasonhale.com'), (3, 'Jane', 'Doe', 'janedoe@janedoe.com')]\n"
     ]
    }
   ],
   "source": [
    "#Data query to check newly added entries\n",
    "cursor.execute(\"SELECT * FROM employees;\")\n",
    "data = cursor.fetchall()\n",
    "print(data)"
   ]
  },
  {
   "cell_type": "code",
   "execution_count": 16,
   "metadata": {},
   "outputs": [
    {
     "data": {
      "text/plain": [
       "<sqlite3.Cursor at 0x11a651c40>"
      ]
     },
     "execution_count": 16,
     "metadata": {},
     "output_type": "execute_result"
    }
   ],
   "source": [
    "#Add multiple data into our table\n",
    "new_employees = [(4, 'Gustavo', 'Anchong', 'gustavoanchong@gustavoanchong.com'),\n",
    "                 (5, 'Kim', 'Abercombie', 'kimabercrombie@kimabercombie.com'),\n",
    "                 (6, 'Pilar', 'Bernard', 'pilarbernard@pilarbernard.com'),\n",
    "                 (7, 'Frances', 'Adams', 'franesadams@francisadams.com'),\n",
    "                 (8, 'Margaret', 'Smith', 'margaretsmith@margaretsmith.com'),\n",
    "                 (9, 'Angela', 'Adams', 'angelaadams@angelaadams.com'),\n",
    "                 (10, 'Samuel', 'Agcaouli', 'samuelagcaoili@samuelagcaoili.com')]\n",
    "\n",
    "cursor.executemany('INSERT INTO employees VALUES (?, ?, ?, ?)', new_employees)"
   ]
  },
  {
   "cell_type": "code",
   "execution_count": 17,
   "metadata": {},
   "outputs": [
    {
     "name": "stdout",
     "output_type": "stream",
     "text": [
      "[(1, 'John', 'Doe', 'johndoe@johndoe.com'), (2, 'Jason', 'Hale', 'jasonhale@jasonhale.com'), (3, 'Jane', 'Doe', 'janedoe@janedoe.com'), (4, 'Gustavo', 'Anchong', 'gustavoanchong@gustavoanchong.com'), (5, 'Kim', 'Abercombie', 'kimabercrombie@kimabercombie.com'), (6, 'Pilar', 'Bernard', 'pilarbernard@pilarbernard.com'), (7, 'Frances', 'Adams', 'franesadams@francisadams.com'), (8, 'Margaret', 'Smith', 'margaretsmith@margaretsmith.com'), (9, 'Angela', 'Adams', 'angelaadams@angelaadams.com'), (10, 'Samuel', 'Agcaouli', 'samuelagcaoili@samuelagcaoili.com')]\n"
     ]
    }
   ],
   "source": [
    "#Data query to check newly added entries\n",
    "cursor.execute(\"SELECT * FROM employees;\")\n",
    "data = cursor.fetchall()\n",
    "print(data)"
   ]
  },
  {
   "cell_type": "code",
   "execution_count": 18,
   "metadata": {},
   "outputs": [],
   "source": [
    "#Applies update to database\n",
    "conn.commit()"
   ]
  },
  {
   "cell_type": "code",
   "execution_count": 19,
   "metadata": {},
   "outputs": [],
   "source": [
    "#close connection\n",
    "cursor.close()\n",
    "conn.close()"
   ]
  },
  {
   "cell_type": "code",
   "execution_count": 4,
   "metadata": {},
   "outputs": [
    {
     "data": {
      "text/html": [
       "<div>\n",
       "<style scoped>\n",
       "    .dataframe tbody tr th:only-of-type {\n",
       "        vertical-align: middle;\n",
       "    }\n",
       "\n",
       "    .dataframe tbody tr th {\n",
       "        vertical-align: top;\n",
       "    }\n",
       "\n",
       "    .dataframe thead th {\n",
       "        text-align: right;\n",
       "    }\n",
       "</style>\n",
       "<table border=\"1\" class=\"dataframe\">\n",
       "  <thead>\n",
       "    <tr style=\"text-align: right;\">\n",
       "      <th></th>\n",
       "      <th>employee_id</th>\n",
       "      <th>first_name</th>\n",
       "      <th>last_name</th>\n",
       "      <th>email</th>\n",
       "    </tr>\n",
       "  </thead>\n",
       "  <tbody>\n",
       "    <tr>\n",
       "      <th>0</th>\n",
       "      <td>1</td>\n",
       "      <td>John</td>\n",
       "      <td>Doe</td>\n",
       "      <td>johndoe@johndoe.com</td>\n",
       "    </tr>\n",
       "    <tr>\n",
       "      <th>1</th>\n",
       "      <td>2</td>\n",
       "      <td>Jason</td>\n",
       "      <td>Hale</td>\n",
       "      <td>jasonhale@jasonhale.com</td>\n",
       "    </tr>\n",
       "    <tr>\n",
       "      <th>2</th>\n",
       "      <td>3</td>\n",
       "      <td>Jane</td>\n",
       "      <td>Doe</td>\n",
       "      <td>janedoe@janedoe.com</td>\n",
       "    </tr>\n",
       "    <tr>\n",
       "      <th>3</th>\n",
       "      <td>4</td>\n",
       "      <td>Gustavo</td>\n",
       "      <td>Anchong</td>\n",
       "      <td>gustavoanchong@gustavoanchong.com</td>\n",
       "    </tr>\n",
       "    <tr>\n",
       "      <th>4</th>\n",
       "      <td>5</td>\n",
       "      <td>Kim</td>\n",
       "      <td>Abercombie</td>\n",
       "      <td>kimabercrombie@kimabercombie.com</td>\n",
       "    </tr>\n",
       "    <tr>\n",
       "      <th>5</th>\n",
       "      <td>6</td>\n",
       "      <td>Pilar</td>\n",
       "      <td>Bernard</td>\n",
       "      <td>pilarbernard@pilarbernard.com</td>\n",
       "    </tr>\n",
       "    <tr>\n",
       "      <th>6</th>\n",
       "      <td>7</td>\n",
       "      <td>Frances</td>\n",
       "      <td>Adams</td>\n",
       "      <td>franesadams@francisadams.com</td>\n",
       "    </tr>\n",
       "    <tr>\n",
       "      <th>7</th>\n",
       "      <td>8</td>\n",
       "      <td>Margaret</td>\n",
       "      <td>Smith</td>\n",
       "      <td>margaretsmith@margaretsmith.com</td>\n",
       "    </tr>\n",
       "    <tr>\n",
       "      <th>8</th>\n",
       "      <td>9</td>\n",
       "      <td>Angela</td>\n",
       "      <td>Adams</td>\n",
       "      <td>angelaadams@angelaadams.com</td>\n",
       "    </tr>\n",
       "    <tr>\n",
       "      <th>9</th>\n",
       "      <td>10</td>\n",
       "      <td>Samuel</td>\n",
       "      <td>Agcaouli</td>\n",
       "      <td>samuelagcaoili@samuelagcaoili.com</td>\n",
       "    </tr>\n",
       "  </tbody>\n",
       "</table>\n",
       "</div>"
      ],
      "text/plain": [
       "   employee_id first_name   last_name                              email\n",
       "0            1       John         Doe                johndoe@johndoe.com\n",
       "1            2      Jason        Hale            jasonhale@jasonhale.com\n",
       "2            3       Jane         Doe                janedoe@janedoe.com\n",
       "3            4    Gustavo     Anchong  gustavoanchong@gustavoanchong.com\n",
       "4            5        Kim  Abercombie   kimabercrombie@kimabercombie.com\n",
       "5            6      Pilar     Bernard      pilarbernard@pilarbernard.com\n",
       "6            7    Frances       Adams       franesadams@francisadams.com\n",
       "7            8   Margaret       Smith    margaretsmith@margaretsmith.com\n",
       "8            9     Angela       Adams        angelaadams@angelaadams.com\n",
       "9           10     Samuel    Agcaouli  samuelagcaoili@samuelagcaoili.com"
      ]
     },
     "execution_count": 4,
     "metadata": {},
     "output_type": "execute_result"
    }
   ],
   "source": [
    "#Establish connection and read data from database\n",
    "conn = db.connect('db/sqlite.db')\n",
    "data_employee = pd.read_sql_query('SELECT * FROM employees', conn)\n",
    "\n",
    "data_employee"
   ]
  },
  {
   "cell_type": "code",
   "execution_count": 8,
   "metadata": {},
   "outputs": [],
   "source": [
    "#Close connection from database\n",
    "conn.close()"
   ]
  }
 ],
 "metadata": {
  "kernelspec": {
   "display_name": "Python 3",
   "language": "python",
   "name": "python3"
  },
  "language_info": {
   "codemirror_mode": {
    "name": "ipython",
    "version": 3
   },
   "file_extension": ".py",
   "mimetype": "text/x-python",
   "name": "python",
   "nbconvert_exporter": "python",
   "pygments_lexer": "ipython3",
   "version": "3.12.6"
  }
 },
 "nbformat": 4,
 "nbformat_minor": 2
}
